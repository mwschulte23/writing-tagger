{
 "cells": [
  {
   "cell_type": "code",
   "execution_count": 1,
   "metadata": {},
   "outputs": [],
   "source": [
    "from typing import Literal, get_args\n",
    "from pydantic import create_model, BaseModel\n",
    "from typing_extensions import TypeAliasType"
   ]
  },
  {
   "cell_type": "code",
   "execution_count": 8,
   "metadata": {},
   "outputs": [],
   "source": [
    "from pydantic import PydanticUserError, create_model\n",
    "\n",
    "try:\n",
    "    create_model('FooModel', foo=(str, 'default value', 'more'))\n",
    "except PydanticUserError as exc_info:\n",
    "    assert exc_info.code == 'create-model-field-definitions'"
   ]
  },
  {
   "cell_type": "code",
   "execution_count": 11,
   "metadata": {},
   "outputs": [
    {
     "data": {
      "text/plain": [
       "True"
      ]
     },
     "execution_count": 11,
     "metadata": {},
     "output_type": "execute_result"
    }
   ],
   "source": [
    "import streamlit as st\n",
    "from enum import Enum\n",
    "from pydantic import BaseModel, Field, create_model\n",
    "from typing import List, Optional, Literal\n",
    "from dotenv import load_dotenv\n",
    "load_dotenv()\n"
   ]
  },
  {
   "cell_type": "code",
   "execution_count": 18,
   "metadata": {},
   "outputs": [
    {
     "name": "stdout",
     "output_type": "stream",
     "text": [
      "<enum 'TagEnum'>\n"
     ]
    }
   ],
   "source": [
    "TAGS = ['emotional', 'personal', 'professional']\n",
    "tag_enum = Enum('TagEnum', {v.upper(): v for v in TAGS})\n",
    "print(tag_enum)\n"
   ]
  },
  {
   "cell_type": "code",
   "execution_count": 25,
   "metadata": {},
   "outputs": [
    {
     "name": "stdout",
     "output_type": "stream",
     "text": [
      "<class 'pydantic._internal._model_construction.ModelMetaclass'>\n"
     ]
    }
   ],
   "source": [
    "class Tag(BaseModel):\n",
    "    tag: tag_enum\n",
    "\n",
    "Tag = create_model('Tag', tag=(tag_enum, ...))\n",
    "\n",
    "class Tags(BaseModel):\n",
    "    tags: List[Tag]\n",
    "\n",
    "print(type(Tags))\n"
   ]
  }
 ],
 "metadata": {
  "kernelspec": {
   "display_name": ".venv",
   "language": "python",
   "name": "python3"
  },
  "language_info": {
   "codemirror_mode": {
    "name": "ipython",
    "version": 3
   },
   "file_extension": ".py",
   "mimetype": "text/x-python",
   "name": "python",
   "nbconvert_exporter": "python",
   "pygments_lexer": "ipython3",
   "version": "3.9.12"
  }
 },
 "nbformat": 4,
 "nbformat_minor": 2
}
